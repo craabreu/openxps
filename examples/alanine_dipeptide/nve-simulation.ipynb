{
 "cells": [
  {
   "cell_type": "markdown",
   "metadata": {},
   "source": [
    "### Constant-NVE Simulation in Extended Phase-Space\n",
    "\n",
    "- **System**: alanine dipeptide in vacuum\n",
    "- **Force field**: AMBER ff96\n",
    "- **Integrator**: Velocity Verlet with a 1 fs time step\n",
    "- **Phase-space extension**: Angular variables $\\phi_s$ and $\\psi_s$ attached to backbone dihedrals $\\phi$ and $\\psi$, respectively\n",
    "\n",
    "\n",
    "This example aims to demonstrate the correctness of the implemented Extended Phase-Space\n",
    "(XPS) simulation approach by checking energy conservation."
   ]
  },
  {
   "cell_type": "code",
   "execution_count": null,
   "metadata": {},
   "outputs": [],
   "source": [
    "import io\n",
    "\n",
    "import cvpack\n",
    "import numpy as np\n",
    "import openmm as mm\n",
    "import openxps as xps\n",
    "import pandas as pd\n",
    "\n",
    "from openmm import app, unit\n",
    "from openmmtools import testsystems\n",
    "from matplotlib import pyplot as plt"
   ]
  },
  {
   "cell_type": "code",
   "execution_count": null,
   "metadata": {},
   "outputs": [],
   "source": [
    "time_step = 1 * unit.femtoseconds\n",
    "\n",
    "model = testsystems.AlanineDipeptideVacuum()\n",
    "physical_integrator = mm.VerletIntegrator(time_step)\n",
    "platform = mm.Platform.getPlatformByName(\"Reference\")\n",
    "simulation = app.Simulation(model.topology, model.system, physical_integrator, platform)\n",
    "simulation.context.setPositions(model.positions)"
   ]
  },
  {
   "cell_type": "markdown",
   "metadata": {},
   "source": [
    "The two Ramachandran angles $\\phi({\\bf r})$ and $\\psi({\\bf r})$ are taken as collective\n",
    "variables (CVs) and associated with two new degrees of freedom (DOFs) $\\phi_s$ and\n",
    "$\\psi_s$, respectively."
   ]
  },
  {
   "cell_type": "code",
   "execution_count": null,
   "metadata": {},
   "outputs": [],
   "source": [
    "backbone_atoms = model.mdtraj_topology.select(\"name C CA N\")\n",
    "phi = cvpack.Torsion(*backbone_atoms[0:4], name=\"phi\")\n",
    "psi = cvpack.Torsion(*backbone_atoms[1:5], name=\"psi\")\n",
    "\n",
    "mass = 5 * unit.dalton * (unit.nanometer / unit.radians)**2\n",
    "phi_s = xps.ExtraDOF(\"phi_s\", unit.radian, mass, xps.bounds.CIRCULAR)\n",
    "psi_s = xps.ExtraDOF(\"psi_s\", unit.radian, mass, xps.bounds.CIRCULAR)"
   ]
  },
  {
   "cell_type": "markdown",
   "metadata": {},
   "source": [
    "The coupling between the CVs and extra DOFs is achieved by adding a harmonic potential\n",
    "to the Hamiltonian."
   ]
  },
  {
   "cell_type": "code",
   "execution_count": null,
   "metadata": {},
   "outputs": [],
   "source": [
    "coupling_potential = cvpack.MetaCollectiveVariable(\n",
    "    f\"0.5*kappa*({phi_s.distanceTo(phi)}^2+{psi_s.distanceTo(psi)}^2)\",\n",
    "    [phi, psi],\n",
    "    unit.kilojoule_per_mole,\n",
    "    kappa=1000 * unit.kilojoule_per_mole / unit.radian**2,\n",
    "    phi_s=np.pi * unit.radian,\n",
    "    psi_s=np.pi * unit.radian,\n",
    "    name=\"coupling_potential\",\n",
    ")"
   ]
  },
  {
   "cell_type": "markdown",
   "metadata": {},
   "source": [
    "To execute the XPS simulation, the original context is transformed into an extended\n",
    "space context by adding the extra DOFs and the coupling potential."
   ]
  },
  {
   "cell_type": "code",
   "execution_count": null,
   "metadata": {},
   "outputs": [],
   "source": [
    "context = xps.ExtendedSpaceContext(\n",
    "    simulation.context, [phi_s, psi_s], coupling_potential,\n",
    ")\n",
    "cv_values = coupling_potential.getInnerValues(context)\n",
    "context.setExtraValues([cv_values[\"phi\"], cv_values[\"psi\"]])"
   ]
  },
  {
   "cell_type": "markdown",
   "metadata": {},
   "source": [
    "The total energy consists of the potential energy of the physical system (including the harmonic coupling potential) and the kinetic energy of both the physical and extra DOFs.\n",
    "\n",
    "An OpenMM reporter is used to compute and output these terms at every 100 steps. A StringIO object is used to capture the output for later analysis."
   ]
  },
  {
   "cell_type": "code",
   "execution_count": null,
   "metadata": {},
   "outputs": [],
   "source": [
    "stream = io.StringIO()\n",
    "interval = 100\n",
    "\n",
    "cv_reporter = cvpack.reporting.StateDataReporter(\n",
    "    stream,\n",
    "    interval,\n",
    "    step=True,\n",
    "    potentialEnergy=True,\n",
    "    kineticEnergy=True,\n",
    "    writers=[\n",
    "        xps.ExtensionWriter(context, kinetic=True),\n",
    "        cvpack.reporting.MetaCVWriter(\n",
    "            coupling_potential,\n",
    "            values=[\"phi\", \"psi\"],\n",
    "            parameters=[\"phi_s\", \"psi_s\"],\n",
    "        ),\n",
    "    ],\n",
    "    speed=True,\n",
    ")\n",
    "simulation.reporters = [cv_reporter]"
   ]
  },
  {
   "cell_type": "markdown",
   "metadata": {},
   "source": [
    "The total energy should be conserved along the simulation."
   ]
  },
  {
   "cell_type": "code",
   "execution_count": null,
   "metadata": {},
   "outputs": [],
   "source": [
    "total_time = 100 * unit.picoseconds\n",
    "\n",
    "simulation.step(round(total_time / time_step))"
   ]
  },
  {
   "cell_type": "markdown",
   "metadata": {},
   "source": [
    "Plotting the energy terms and the total energy to check the energy conservation."
   ]
  },
  {
   "cell_type": "code",
   "execution_count": null,
   "metadata": {},
   "outputs": [],
   "source": [
    "stream.seek(0)\n",
    "data = pd.read_csv(stream)\n",
    "\n",
    "steps = data['#\"Step\"']\n",
    "potential = data[\"Potential Energy (kJ/mole)\"]\n",
    "physical_kinetic = data[\"Kinetic Energy (kJ/mole)\"]\n",
    "extra_kinetic = data[\"Extension Kinetic Energy (kJ/mole)\"]\n",
    "total = potential + physical_kinetic + extra_kinetic\n",
    "\n",
    "fig, ax = plt.subplots()\n",
    "ax.plot(steps, potential, label=\"Potential Energy\")\n",
    "ax.plot(steps, physical_kinetic, label=\"Physical Kinetic Energy\")\n",
    "ax.plot(steps, extra_kinetic, label=\"Extra Kinetic Energy\")\n",
    "ax.plot(steps, total, label=\"Total Energy\")\n",
    "fig.legend(loc='center left', bbox_to_anchor=(1, 0.5))\n",
    "ax.set_xlabel('Step')\n",
    "ax.set_ylabel('Energy (kJ/mol)')\n",
    "ax.set_title(\"Constant NVE Simulation in an Extended Phase Space\")\n",
    "plt.show()"
   ]
  },
  {
   "cell_type": "markdown",
   "metadata": {},
   "source": [
    "Plotting the trajectory of the extra DOFs and their attached CVs to check the coupling between them."
   ]
  },
  {
   "cell_type": "code",
   "execution_count": null,
   "metadata": {},
   "outputs": [],
   "source": [
    "fig, ax = plt.subplots()\n",
    "ax.plot(steps, np.unwrap(data[\"phi (rad)\"]), label=r\"$\\phi({\\bf r})$\")\n",
    "ax.plot(steps, np.unwrap(data[\"psi (rad)\"]), label=r\"$\\psi({\\bf r})$\")\n",
    "ax.plot(steps, np.unwrap(data[\"phi_s (rad)\"]), label=r\"$\\phi_s$\")\n",
    "ax.plot(steps, np.unwrap(data[\"psi_s (rad)\"]), label=r\"$\\psi_s$\")\n",
    "fig.legend(loc='center left', bbox_to_anchor=(1, 0.5))\n",
    "ax.set_xlabel('Step')\n",
    "ax.set_ylabel('Angle (radians)')\n",
    "ax.set_title(\"Constant NVE Simulation in an Extended Phase Space\")\n",
    "plt.show()"
   ]
  }
 ],
 "metadata": {
  "kernelspec": {
   "display_name": "rs",
   "language": "python",
   "name": "python3"
  },
  "language_info": {
   "codemirror_mode": {
    "name": "ipython",
    "version": 3
   },
   "file_extension": ".py",
   "mimetype": "text/x-python",
   "name": "python",
   "nbconvert_exporter": "python",
   "pygments_lexer": "ipython3",
   "version": "3.10.13"
  }
 },
 "nbformat": 4,
 "nbformat_minor": 2
}
