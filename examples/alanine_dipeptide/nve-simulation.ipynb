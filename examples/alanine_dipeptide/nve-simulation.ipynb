{
 "cells": [
  {
   "cell_type": "markdown",
   "metadata": {},
   "source": [
    "### Constant-NVE Simulation in Extended Phase-Space\n",
    "\n",
    "- **System**: alanine dipeptide in vacuum\n",
    "- **Force field**: AMBER ff03\n",
    "- **Constraints**: Bonds to hydrogen atoms\n",
    "- **Hydrogen mass repartitioning**: 3 Da\n",
    "- **Phase-space extension**: Angular variables $\\phi_s$ and $\\psi_s$ attached to backbone dihedrals $\\phi$ and $\\psi$, respectively\n",
    "\n",
    "This example aims to demonstrate the correctness of the implemented Extended Phase-Space (XPS) simulation approach by checking energy conservation."
   ]
  },
  {
   "cell_type": "code",
   "execution_count": null,
   "metadata": {},
   "outputs": [],
   "source": [
    "import io\n",
    "\n",
    "import cvpack\n",
    "import numpy as np\n",
    "import openmm as mm\n",
    "import openxps as xps\n",
    "import pandas as pd\n",
    "\n",
    "from matplotlib import pyplot as plt\n",
    "from openmm import app, unit"
   ]
  },
  {
   "cell_type": "code",
   "execution_count": null,
   "metadata": {},
   "outputs": [],
   "source": [
    "pdb = app.PDBFile(\"alanine-dipeptide.pdb\")\n",
    "physical_system = app.ForceField(\"amber03.xml\").createSystem(\n",
    "    pdb.topology,\n",
    "    nonbondedCutoff=1.0 * unit.nanometer,\n",
    "    switchDistance=0.8 * unit.nanometer,\n",
    "    constraints=app.HBonds,\n",
    "    hydrogenMass=3 * unit.dalton,\n",
    ")\n",
    "platform = mm.Platform.getPlatformByName(\"Reference\")"
   ]
  },
  {
   "cell_type": "code",
   "execution_count": null,
   "metadata": {},
   "outputs": [],
   "source": [
    "physical_time_step = 2 * unit.femtoseconds\n",
    "dv_time_step = 16 * unit.femtoseconds\n",
    "platform = mm.Platform.getPlatformByName(\"Reference\")"
   ]
  },
  {
   "cell_type": "markdown",
   "metadata": {},
   "source": [
    "The two Ramachandran angles $\\phi({\\bf r})$ and $\\psi({\\bf r})$ are taken as collective\n",
    "variables (CVs) and associated with two new dynamical variables (DVs) $\\phi_s$ and\n",
    "$\\psi_s$, respectively."
   ]
  },
  {
   "cell_type": "code",
   "execution_count": null,
   "metadata": {},
   "outputs": [],
   "source": [
    "backbone_atoms = [\n",
    "    atom.index for atom in pdb.topology.atoms() if atom.name in [\"C\", \"CA\", \"N\"]\n",
    "]\n",
    "phi = cvpack.Torsion(*backbone_atoms[0:4], name=\"phi\")\n",
    "psi = cvpack.Torsion(*backbone_atoms[1:5], name=\"psi\")\n",
    "\n",
    "mass = 5 * unit.dalton * (unit.nanometer / unit.radians) ** 2\n",
    "phi_s = xps.DynamicalVariable(\"phi_s\", unit.radian, mass, xps.bounds.CIRCULAR)\n",
    "psi_s = xps.DynamicalVariable(\"psi_s\", unit.radian, mass, xps.bounds.CIRCULAR)"
   ]
  },
  {
   "cell_type": "markdown",
   "metadata": {},
   "source": [
    "The coupling between the CVs and DVs is achieved by adding a harmonic potential\n",
    "to the Hamiltonian."
   ]
  },
  {
   "cell_type": "code",
   "execution_count": null,
   "metadata": {},
   "outputs": [],
   "source": [
    "kappa = 1000 * unit.kilojoule_per_mole / unit.radian**2\n",
    "coupling = xps.HarmonicCoupling(phi, phi_s, kappa) + xps.HarmonicCoupling(\n",
    "    psi, psi_s, kappa\n",
    ")"
   ]
  },
  {
   "cell_type": "code",
   "execution_count": null,
   "metadata": {},
   "outputs": [],
   "source": [
    "xps_integrator = xps.SplitIntegrator(\n",
    "    xps.integrators.VelocityVerletIntegrator(physical_time_step),\n",
    "    xps.integrators.VelocityVerletIntegrator(dv_time_step),\n",
    ")"
   ]
  },
  {
   "cell_type": "markdown",
   "metadata": {},
   "source": [
    "To execute the XPS simulation, we create an `ExtendedSpaceSimulation` object with the dynamical variables and the coupling potential."
   ]
  },
  {
   "cell_type": "code",
   "execution_count": null,
   "metadata": {},
   "outputs": [],
   "source": [
    "simulation = xps.ExtendedSpaceSimulation(\n",
    "    pdb.topology,\n",
    "    xps.ExtendedSpaceSystem(physical_system, coupling),\n",
    "    xps_integrator,\n",
    "    platform,\n",
    ")\n",
    "simulation.context.setPositions(pdb.positions)\n",
    "cv_values = coupling.getCollectiveVariableValues(simulation.context)\n",
    "simulation.context.setDynamicalVariableValues([cv_values[\"phi\"], cv_values[\"psi\"]])"
   ]
  },
  {
   "cell_type": "markdown",
   "metadata": {},
   "source": [
    "The total energy consists of the potential energy of the physical system (including the harmonic coupling potential) and the kinetic energy of both the physical system and extra dynamical variables.\n",
    "\n",
    "An OpenMM reporter is used to compute and output these terms at every 10 steps. A StringIO object is used to capture the output for later analysis."
   ]
  },
  {
   "cell_type": "code",
   "execution_count": null,
   "metadata": {},
   "outputs": [],
   "source": [
    "stream = io.StringIO()\n",
    "interval = 10\n",
    "\n",
    "cv_reporter = cvpack.reporting.StateDataReporter(\n",
    "    stream,\n",
    "    interval,\n",
    "    step=True,\n",
    "    time=True,\n",
    "    potentialEnergy=True,\n",
    "    kineticEnergy=True,\n",
    "    writers=[\n",
    "        xps.ExtensionWriter(\n",
    "            kinetic=True,\n",
    "            dynamical_variables=True,\n",
    "            forces=True,\n",
    "            collective_variables=True,\n",
    "            coupling_functions=True,\n",
    "        ),\n",
    "    ],\n",
    "    speed=True,\n",
    ")\n",
    "simulation.reporters = [cv_reporter]"
   ]
  },
  {
   "cell_type": "markdown",
   "metadata": {},
   "source": [
    "The total energy should be conserved along the simulation."
   ]
  },
  {
   "cell_type": "code",
   "execution_count": null,
   "metadata": {},
   "outputs": [],
   "source": [
    "total_time = 100 * unit.picoseconds\n",
    "\n",
    "simulation.step(round(total_time / xps_integrator.getStepSize()))"
   ]
  },
  {
   "cell_type": "code",
   "execution_count": null,
   "metadata": {},
   "outputs": [],
   "source": [
    "stream.seek(0)\n",
    "data = pd.read_csv(stream)\n",
    "data"
   ]
  },
  {
   "cell_type": "markdown",
   "metadata": {},
   "source": [
    "Plotting the energy terms and the total energy to check the energy conservation."
   ]
  },
  {
   "cell_type": "code",
   "execution_count": null,
   "metadata": {},
   "outputs": [],
   "source": [
    "time = data[\"Time (ps)\"]\n",
    "potential = data[\"Potential Energy (kJ/mole)\"]\n",
    "physical_kinetic = data[\"Kinetic Energy (kJ/mole)\"]\n",
    "extra_kinetic = data[\"Extension Kinetic Energy (kJ/mole)\"]\n",
    "total = potential + physical_kinetic + extra_kinetic\n",
    "\n",
    "fig, ax = plt.subplots()\n",
    "ax.plot(time, potential, label=\"Potential Energy\")\n",
    "ax.plot(time, physical_kinetic, label=\"Physical Kinetic Energy\")\n",
    "ax.plot(time, extra_kinetic, label=\"Extra Kinetic Energy\")\n",
    "ax.plot(time, total, label=\"Total Energy\")\n",
    "ax.axhline(\n",
    "    y=total[0], color=\"gray\", linestyle=\"--\", linewidth=1, label=\"Initial Total Energy\"\n",
    ")\n",
    "\n",
    "fig.legend(loc=\"center left\", bbox_to_anchor=(1, 0.5))\n",
    "ax.set_xlabel(\"Time (ps)\")\n",
    "ax.set_ylabel(\"Energy (kJ/mol)\")\n",
    "ax.set_title(\"Constant NVE Simulation in an Extended Phase Space\")\n",
    "plt.show()"
   ]
  },
  {
   "cell_type": "markdown",
   "metadata": {},
   "source": [
    "Plotting the trajectory of the DVs and their attached CVs to check the coupling between them."
   ]
  },
  {
   "cell_type": "code",
   "execution_count": null,
   "metadata": {},
   "outputs": [],
   "source": [
    "fig, (ax1, ax2) = plt.subplots(2, 1, figsize=(8, 8))\n",
    "\n",
    "\n",
    "def plot_trajectory(ax, data, angle):\n",
    "    dv_traj = np.unwrap(data[f\"{angle}_s (radian)\"])\n",
    "    delta = data[f\"{angle} (radian)\"] - dv_traj\n",
    "    cv_traj = dv_traj + delta - 2 * np.pi * np.round(delta / (2 * np.pi))\n",
    "    ax.plot(time, dv_traj, label=rf\"$\\{angle}_s$\")\n",
    "    ax.plot(time, cv_traj, label=rf\"$\\{angle}({{\\bf r}})$\")\n",
    "    ax.set_xlabel(\"Time (ps)\")\n",
    "    ax.set_ylabel(\"Angle (radians)\")\n",
    "    ax.set_title(rf\"Trajectory: $\\{angle}({{\\bf r}})$ and $\\{angle}_s$\")\n",
    "    ax.legend(loc=\"upper right\")\n",
    "\n",
    "\n",
    "plot_trajectory(ax1, data, \"phi\")\n",
    "plot_trajectory(ax2, data, \"psi\")\n",
    "\n",
    "fig.suptitle(\"Constant NVE Simulation in an Extended Phase Space\", y=1.03)\n",
    "plt.tight_layout()\n",
    "plt.show()"
   ]
  },
  {
   "cell_type": "code",
   "execution_count": null,
   "metadata": {},
   "outputs": [],
   "source": []
  }
 ],
 "metadata": {
  "kernelspec": {
   "display_name": "openmm",
   "language": "python",
   "name": "python3"
  },
  "language_info": {
   "codemirror_mode": {
    "name": "ipython",
    "version": 3
   },
   "file_extension": ".py",
   "mimetype": "text/x-python",
   "name": "python",
   "nbconvert_exporter": "python",
   "pygments_lexer": "ipython3",
   "version": "3.12.11"
  }
 },
 "nbformat": 4,
 "nbformat_minor": 2
}
